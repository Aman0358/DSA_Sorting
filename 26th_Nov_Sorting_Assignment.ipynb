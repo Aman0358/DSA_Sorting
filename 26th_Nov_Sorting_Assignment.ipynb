{
 "cells": [
  {
   "cell_type": "code",
   "execution_count": 1,
   "id": "68a4e025-61ef-4f7b-b2c4-8183b2a88604",
   "metadata": {},
   "outputs": [
    {
     "name": "stdout",
     "output_type": "stream",
     "text": [
      "Element appearing maximum number of times: 2\n"
     ]
    }
   ],
   "source": [
    "# Problem 1.Given an array of n numbers, give an algorithm which gives the element appearing maximum number of times?\n",
    "def find_max_frequency_element(arr):\n",
    "    # Create a hash table to store the frequency of each element\n",
    "    frequency_table = {}\n",
    "\n",
    "    # Traverse the array and update the frequency table\n",
    "    for element in arr:\n",
    "        if element in frequency_table:\n",
    "            frequency_table[element] += 1\n",
    "        else:\n",
    "            frequency_table[element] = 1\n",
    "\n",
    "    # Find the element with the maximum frequency\n",
    "    max_frequency = 0\n",
    "    max_frequency_element = None\n",
    "\n",
    "    for element, frequency in frequency_table.items():\n",
    "        if frequency > max_frequency:\n",
    "            max_frequency = frequency\n",
    "            max_frequency_element = element\n",
    "\n",
    "    return max_frequency_element\n",
    "\n",
    "# Example usage:\n",
    "arr = [1, 2, 3, 2, 2, 4, 5, 2, 6, 2]\n",
    "result = find_max_frequency_element(arr)\n",
    "print(\"Element appearing maximum number of times:\", result)\n"
   ]
  },
  {
   "cell_type": "code",
   "execution_count": 2,
   "id": "862710c4-1ad9-4308-835b-e9ac99f07f5b",
   "metadata": {},
   "outputs": [
    {
     "name": "stdout",
     "output_type": "stream",
     "text": [
      "Missing number: 5\n"
     ]
    }
   ],
   "source": [
    "# Problem 2 : We are given a list of n-1 integers and these integers are in the range of 1 to n . There are no duplicates in the list. One of the integers is missing in the list. Give an algorithm to find that element Ex: [1,2,4,6,3,7,8] 5 is the missing num.\n",
    "def find_missing_number(arr):\n",
    "    n = len(arr) + 1  # Since there are n-1 elements, and one is missing\n",
    "    expected_sum = n * (n + 1) // 2  # Sum of natural numbers from 1 to n\n",
    "\n",
    "    actual_sum = sum(arr)  # Sum of the given list\n",
    "\n",
    "    missing_number = expected_sum - actual_sum\n",
    "    return missing_number\n",
    "\n",
    "# Example usage:\n",
    "arr = [1, 2, 4, 6, 3, 7, 8]\n",
    "missing_number = find_missing_number(arr)\n",
    "print(\"Missing number:\", missing_number)\n"
   ]
  },
  {
   "cell_type": "code",
   "execution_count": 3,
   "id": "6cd88f8a-0d5c-40cb-9c37-1649d699099c",
   "metadata": {},
   "outputs": [
    {
     "name": "stdout",
     "output_type": "stream",
     "text": [
      "Number occurring odd number of times: 3\n"
     ]
    }
   ],
   "source": [
    "# Problem 3 : Given an array of n positive numbers. All numbers occurs even number of times except 1 which occurs odd number of times. Find that number in O(n) time and O(1) space. Ex: [1,2,3,2,3,1,3]. 3 is repeats odd times.\n",
    "def find_odd_occurrence(arr):\n",
    "    result = 0\n",
    "\n",
    "    # XOR all elements in the array\n",
    "    for num in arr:\n",
    "        result ^= num\n",
    "\n",
    "    return result\n",
    "\n",
    "# Example usage:\n",
    "arr = [1, 2, 3, 2, 3, 1, 3]\n",
    "odd_occurrence_number = find_odd_occurrence(arr)\n",
    "print(\"Number occurring odd number of times:\", odd_occurrence_number)\n"
   ]
  },
  {
   "cell_type": "code",
   "execution_count": 4,
   "id": "a2906433-7187-43a8-8596-2163d7220eec",
   "metadata": {},
   "outputs": [
    {
     "name": "stdout",
     "output_type": "stream",
     "text": [
      "Pair with sum 10: 6 and 4\n"
     ]
    }
   ],
   "source": [
    "# Problem 4 : Given an array of n elements. Find two elements in the array such that their sum is equal to given element K.\n",
    "def find_pair_with_sum(arr, K):\n",
    "    seen = set()\n",
    "\n",
    "    for num in arr:\n",
    "        complement = K - num\n",
    "\n",
    "        if complement in seen:\n",
    "            return num, complement  # Found a pair with the given sum\n",
    "        else:\n",
    "            seen.add(num)\n",
    "\n",
    "    return None  # No pair found\n",
    "\n",
    "# Example usage:\n",
    "arr = [1, 2, 4, 6, 3, 7, 8]\n",
    "K = 10\n",
    "pair = find_pair_with_sum(arr, K)\n",
    "\n",
    "if pair:\n",
    "    print(f\"Pair with sum {K}: {pair[0]} and {pair[1]}\")\n",
    "else:\n",
    "    print(f\"No pair found with sum {K}\")\n"
   ]
  },
  {
   "cell_type": "code",
   "execution_count": 5,
   "id": "cdfcae87-de3f-478f-881b-039735e723b8",
   "metadata": {},
   "outputs": [
    {
     "name": "stdout",
     "output_type": "stream",
     "text": [
      "Closest sum pair: (-80, 85)\n"
     ]
    }
   ],
   "source": [
    "# Problem 5 : Given an array of both positive and negative numbers, find two numbers such that their sum is closest to 0. Ex: [ 1 ,60 ,-10, 70, -80,85]. Ans : -80,85.\n",
    "def find_closest_sum_pair(arr):\n",
    "    arr.sort()  # Sort the array\n",
    "\n",
    "    left, right = 0, len(arr) - 1\n",
    "    closest_sum = float('inf')  # Initialize to positive infinity\n",
    "    result_pair = None\n",
    "\n",
    "    while left < right:\n",
    "        current_sum = arr[left] + arr[right]\n",
    "\n",
    "        # Update closest_sum and result_pair if the current_sum is closer to 0\n",
    "        if abs(current_sum) < abs(closest_sum):\n",
    "            closest_sum = current_sum\n",
    "            result_pair = (arr[left], arr[right])\n",
    "\n",
    "        if current_sum < 0:\n",
    "            left += 1\n",
    "        else:\n",
    "            right -= 1\n",
    "\n",
    "    return result_pair\n",
    "\n",
    "# Example usage:\n",
    "arr = [1, 60, -10, 70, -80, 85]\n",
    "closest_pair = find_closest_sum_pair(arr)\n",
    "print(\"Closest sum pair:\", closest_pair)\n"
   ]
  },
  {
   "cell_type": "code",
   "execution_count": 6,
   "id": "45b015f8-40e2-4777-99ce-fc08b231606e",
   "metadata": {},
   "outputs": [
    {
     "name": "stdout",
     "output_type": "stream",
     "text": [
      "Triplet with sum 22: 4, 8, 10\n"
     ]
    }
   ],
   "source": [
    "# Problem 6 : Given an array of n elements . Find three elements such that their sum is equal to the given number. \n",
    "def find_three_elements_with_sum(arr, K):\n",
    "    arr.sort()  # Sort the array\n",
    "\n",
    "    for i in range(len(arr) - 2):\n",
    "        left, right = i + 1, len(arr) - 1\n",
    "\n",
    "        while left < right:\n",
    "            current_sum = arr[i] + arr[left] + arr[right]\n",
    "\n",
    "            if current_sum == K:\n",
    "                return arr[i], arr[left], arr[right]  # Found a triplet with the given sum\n",
    "            elif current_sum < K:\n",
    "                left += 1\n",
    "            else:\n",
    "                right -= 1\n",
    "\n",
    "    return None  # No triplet found\n",
    "\n",
    "# Example usage:\n",
    "arr = [1, 4, 45, 6, 10, 8]\n",
    "K = 22\n",
    "triplet = find_three_elements_with_sum(arr, K)\n",
    "\n",
    "if triplet:\n",
    "    print(f\"Triplet with sum {K}: {triplet[0]}, {triplet[1]}, {triplet[2]}\")\n",
    "else:\n",
    "    print(f\"No triplet found with sum {K}\")\n"
   ]
  },
  {
   "cell_type": "code",
   "execution_count": 7,
   "id": "3fe97b6d-1c3a-4eb8-8253-66eea9c2e607",
   "metadata": {},
   "outputs": [
    {
     "name": "stdout",
     "output_type": "stream",
     "text": [
      "Pythagorean triplet: 3, 4, 5\n"
     ]
    }
   ],
   "source": [
    "# Problem 7 : Given an array of n elements . Find three elements i, j, k in the array such that i * i + j * j = k*k.\n",
    "def find_pythagorean_triplet(arr):\n",
    "    arr = [x * x for x in arr]  # Square each element in the array\n",
    "    arr_set = set(arr)\n",
    "\n",
    "    for i in range(len(arr) - 1):\n",
    "        for j in range(i + 1, len(arr)):\n",
    "            if arr[i] + arr[j] in arr_set:\n",
    "                return int(arr[i]**0.5), int(arr[j]**0.5), int((arr[i] + arr[j])**0.5)\n",
    "\n",
    "    return None  # No triplet found\n",
    "\n",
    "# Example usage:\n",
    "arr = [3, 1, 4, 6, 5]\n",
    "triplet = find_pythagorean_triplet(arr)\n",
    "\n",
    "if triplet:\n",
    "    print(f\"Pythagorean triplet: {triplet[0]}, {triplet[1]}, {triplet[2]}\")\n",
    "else:\n",
    "    print(\"No Pythagorean triplet found\")\n"
   ]
  },
  {
   "cell_type": "code",
   "execution_count": 8,
   "id": "481b45b7-79af-40a0-bd02-b500eb89069b",
   "metadata": {},
   "outputs": [
    {
     "name": "stdout",
     "output_type": "stream",
     "text": [
      "Majority element: 4\n"
     ]
    }
   ],
   "source": [
    "# Problem 8 : An element is a majority if it appears more than n/2 times. Give an algorithm takes an array of n element as argument and identifies a majority (if it exists).\n",
    "def find_majority_element(arr):\n",
    "    # Step 1: Find a candidate for the majority element\n",
    "    candidate = None\n",
    "    count = 0\n",
    "\n",
    "    for num in arr:\n",
    "        if count == 0:\n",
    "            candidate = num\n",
    "            count = 1\n",
    "        elif candidate == num:\n",
    "            count += 1\n",
    "        else:\n",
    "            count -= 1\n",
    "\n",
    "    # Step 2: Verify if the candidate is the majority element\n",
    "    count = 0\n",
    "    for num in arr:\n",
    "        if num == candidate:\n",
    "            count += 1\n",
    "\n",
    "    if count > len(arr) // 2:\n",
    "        return candidate\n",
    "    else:\n",
    "        return None  # No majority element\n",
    "\n",
    "# Example usage:\n",
    "arr = [3, 3, 4, 2, 4, 4, 2, 4, 4]\n",
    "majority_element = find_majority_element(arr)\n",
    "\n",
    "if majority_element is not None:\n",
    "    print(\"Majority element:\", majority_element)\n",
    "else:\n",
    "    print(\"No majority element found\")\n"
   ]
  },
  {
   "cell_type": "code",
   "execution_count": 9,
   "id": "1222b28d-8eaa-44d7-9a8c-e2c5e0a04db2",
   "metadata": {},
   "outputs": [
    {
     "name": "stdout",
     "output_type": "stream",
     "text": [
      "Row with maximum zeros: 2\n"
     ]
    }
   ],
   "source": [
    "# Problem 9 : Given n × n matrix, and in each row all 1’s are followed by 0’s. Find the row with the maximum number of 0’s.\n",
    "def find_row_with_max_zeros(matrix):\n",
    "    rows, cols = len(matrix), len(matrix[0])\n",
    "    max_zeros_row = 0  # Initialize the row with maximum zeros\n",
    "    max_zeros_count = 0  # Initialize the count of maximum zeros\n",
    "\n",
    "    for i in range(rows):\n",
    "        # Perform binary search to find the first occurrence of 0\n",
    "        left, right = 0, cols - 1\n",
    "\n",
    "        while left <= right:\n",
    "            mid = (left + right) // 2\n",
    "\n",
    "            if matrix[i][mid] == 0:\n",
    "                right = mid - 1\n",
    "            else:\n",
    "                left = mid + 1\n",
    "\n",
    "        # Update max_zeros_row if the current row has more zeros\n",
    "        zeros_count = cols - left\n",
    "        if zeros_count > max_zeros_count:\n",
    "            max_zeros_count = zeros_count\n",
    "            max_zeros_row = i\n",
    "\n",
    "    return max_zeros_row\n",
    "\n",
    "# Example usage:\n",
    "matrix = [\n",
    "    [1, 1, 1, 0, 0],\n",
    "    [1, 1, 0, 0, 0],\n",
    "    [1, 0, 0, 0, 0],\n",
    "    [1, 1, 1, 1, 0],\n",
    "    [1, 1, 1, 1, 1]\n",
    "]\n",
    "\n",
    "result_row = find_row_with_max_zeros(matrix)\n",
    "print(\"Row with maximum zeros:\", result_row)\n"
   ]
  },
  {
   "cell_type": "code",
   "execution_count": 10,
   "id": "999c7c13-6bb6-467c-8507-6681934a1e57",
   "metadata": {},
   "outputs": [
    {
     "name": "stdout",
     "output_type": "stream",
     "text": [
      "Sorted array: [0, 0, 0, 0, 0, 1, 1, 1, 1, 1, 2, 2]\n"
     ]
    }
   ],
   "source": [
    "# Problem 10 : Sort an array of 0’s, 1’s and 2’s [or R’s, G’s and B’s]: Given an array A[] consisting of 0’s, 1’s and 2’s, give an algorithm for sorting A[].The algorithm should put all 0’s first, then all 1’s and finally all 2’s at the end. Example Input = {0,1,1,0,1,2,1,2,0,0,0,1}, Output = {0,0,0,0,0,1,1,1,1,1,2,2} \n",
    "def sort_colors(nums):\n",
    "    low, mid, high = 0, 0, len(nums) - 1\n",
    "\n",
    "    while mid <= high:\n",
    "        if nums[mid] == 0:\n",
    "            nums[low], nums[mid] = nums[mid], nums[low]\n",
    "            low += 1\n",
    "            mid += 1\n",
    "        elif nums[mid] == 1:\n",
    "            mid += 1\n",
    "        else:\n",
    "            nums[mid], nums[high] = nums[high], nums[mid]\n",
    "            high -= 1\n",
    "\n",
    "# Example usage:\n",
    "arr = [0, 1, 1, 0, 1, 2, 1, 2, 0, 0, 0, 1]\n",
    "sort_colors(arr)\n",
    "print(\"Sorted array:\", arr)\n"
   ]
  },
  {
   "cell_type": "code",
   "execution_count": null,
   "id": "5e4c10d4-39a0-41d4-af1d-f05de78f2d9e",
   "metadata": {},
   "outputs": [],
   "source": []
  }
 ],
 "metadata": {
  "kernelspec": {
   "display_name": "Python 3 (ipykernel)",
   "language": "python",
   "name": "python3"
  },
  "language_info": {
   "codemirror_mode": {
    "name": "ipython",
    "version": 3
   },
   "file_extension": ".py",
   "mimetype": "text/x-python",
   "name": "python",
   "nbconvert_exporter": "python",
   "pygments_lexer": "ipython3",
   "version": "3.10.8"
  }
 },
 "nbformat": 4,
 "nbformat_minor": 5
}
